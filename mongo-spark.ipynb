{
 "cells": [
  {
   "cell_type": "code",
   "execution_count": 30,
   "id": "942c8079-d24c-470e-bc51-afaba8c5a78e",
   "metadata": {},
   "outputs": [],
   "source": [
    "from pyspark.sql import SparkSession\n",
    "\n",
    "spark = SparkSession \\\n",
    "        .builder \\\n",
    "        .appName(\"myapp\") \\\n",
    "        .master(\"local\") \\\n",
    "        .config(\"spark.executor.memory\", \"1g\") \\\n",
    "        .config(\"spark.mongodb.input.uri\",\"mongodb://172.17.0.3:27017/test.products\") \\\n",
    "        .config(\"spark.mongodb.output.uri\",\"mongodb://172.17.0.3:27017/test2.products\") \\\n",
    "        .config(\"spark.jars.packages\", \"org.mongodb.spark:mongo-spark-connector_2.12:3.0.0\") \\\n",
    "        .getOrCreate()"
   ]
  },
  {
   "cell_type": "code",
   "execution_count": 31,
   "id": "19ad81c5-6593-48e4-9ca0-de6f92696b3e",
   "metadata": {},
   "outputs": [],
   "source": [
    "df = spark.read.format(\"mongo\").load()"
   ]
  },
  {
   "cell_type": "code",
   "execution_count": 32,
   "id": "66a13f0f-6f33-4fe3-8866-9439448c3fec",
   "metadata": {},
   "outputs": [
    {
     "name": "stdout",
     "output_type": "stream",
     "text": [
      "root\n",
      " |-- ListPrice: double (nullable = true)\n",
      " |-- MakeFlag: integer (nullable = true)\n",
      " |-- ModelName: string (nullable = true)\n",
      " |-- ProductID: integer (nullable = true)\n",
      " |-- ProductName: string (nullable = true)\n",
      " |-- ProductNumber: string (nullable = true)\n",
      " |-- StandardCost: double (nullable = true)\n",
      " |-- SubCategoryID: integer (nullable = true)\n",
      " |-- _id: struct (nullable = true)\n",
      " |    |-- oid: string (nullable = true)\n",
      "\n"
     ]
    }
   ],
   "source": [
    "df.printSchema()"
   ]
  },
  {
   "cell_type": "code",
   "execution_count": 33,
   "id": "250819e3-a2f6-471d-bf84-bae6440aca98",
   "metadata": {},
   "outputs": [
    {
     "name": "stdout",
     "output_type": "stream",
     "text": [
      "+---------+--------+--------------------+---------+--------------------+-------------+------------+-------------+--------------------+\n",
      "|ListPrice|MakeFlag|           ModelName|ProductID|         ProductName|ProductNumber|StandardCost|SubCategoryID|                 _id|\n",
      "+---------+--------+--------------------+---------+--------------------+-------------+------------+-------------+--------------------+\n",
      "|   1431.5|       1|       HL Road Frame|      680|HL Road Frame - B...|   FR-R92B-58|     1059.31|           14|{64180b900a05e339...|\n",
      "|   1431.5|       1|       HL Road Frame|      706|HL Road Frame - R...|   FR-R92R-58|     1059.31|           14|{64180b900a05e339...|\n",
      "|    34.99|       0|           Sport-100|      707|Sport-100 Helmet,...|    HL-U509-R|     13.0863|           31|{64180b900a05e339...|\n",
      "|    34.99|       0|           Sport-100|      708|Sport-100 Helmet,...|      HL-U509|     13.0863|           31|{64180b900a05e339...|\n",
      "|      9.5|       0| Mountain Bike Socks|      709|Mountain Bike Soc...|    SO-B909-M|      3.3963|           23|{64180b900a05e339...|\n",
      "|      9.5|       0| Mountain Bike Socks|      710|Mountain Bike Soc...|    SO-B909-L|      3.3963|           23|{64180b900a05e339...|\n",
      "|    34.99|       0|           Sport-100|      711|Sport-100 Helmet,...|    HL-U509-B|     13.0863|           31|{64180b900a05e339...|\n",
      "|     8.99|       0|         Cycling Cap|      712|        AWC Logo Cap|      CA-1098|      6.9223|           19|{64180b900a05e339...|\n",
      "|    49.99|       0|Long-Sleeve Logo ...|      713|Long-Sleeve Logo ...|    LJ-0192-S|     38.4923|           21|{64180b900a05e339...|\n",
      "|    49.99|       0|Long-Sleeve Logo ...|      714|Long-Sleeve Logo ...|    LJ-0192-M|     38.4923|           21|{64180b900a05e339...|\n",
      "|    49.99|       0|Long-Sleeve Logo ...|      715|Long-Sleeve Logo ...|    LJ-0192-L|     38.4923|           21|{64180b900a05e339...|\n",
      "|    49.99|       0|Long-Sleeve Logo ...|      716|Long-Sleeve Logo ...|    LJ-0192-X|     38.4923|           21|{64180b900a05e339...|\n",
      "|   1431.5|       1|       HL Road Frame|      717|HL Road Frame - R...|   FR-R92R-62|    868.6342|           14|{64180b900a05e339...|\n",
      "|   1431.5|       1|       HL Road Frame|      718|HL Road Frame - R...|   FR-R92R-44|    868.6342|           14|{64180b900a05e339...|\n",
      "|   1431.5|       1|       HL Road Frame|      719|HL Road Frame - R...|   FR-R92R-48|    868.6342|           14|{64180b900a05e339...|\n",
      "|   1431.5|       1|       HL Road Frame|      720|HL Road Frame - R...|   FR-R92R-52|    868.6342|           14|{64180b900a05e339...|\n",
      "|   1431.5|       1|       HL Road Frame|      721|HL Road Frame - R...|   FR-R92R-56|    868.6342|           14|{64180b900a05e339...|\n",
      "|   337.22|       1|       LL Road Frame|      722|LL Road Frame - B...|   FR-R38B-58|    204.6251|           14|{64180b900a05e339...|\n",
      "|   337.22|       1|       LL Road Frame|      723|LL Road Frame - B...|   FR-R38B-60|    204.6251|           14|{64180b900a05e339...|\n",
      "|   337.22|       1|       LL Road Frame|      724|LL Road Frame - B...|   FR-R38B-62|    204.6251|           14|{64180b900a05e339...|\n",
      "+---------+--------+--------------------+---------+--------------------+-------------+------------+-------------+--------------------+\n",
      "only showing top 20 rows\n",
      "\n"
     ]
    }
   ],
   "source": [
    "df.show()"
   ]
  },
  {
   "cell_type": "code",
   "execution_count": 34,
   "id": "44502132-3408-41ba-b00a-f92d8719602c",
   "metadata": {},
   "outputs": [],
   "source": [
    "df.write.format(\"mongo\").mode(\"append\") \\\n",
    "        .option(\"database\",\"test2\") \\\n",
    "        .option(\"collection\", \"products\") \\\n",
    "        .save()"
   ]
  },
  {
   "cell_type": "code",
   "execution_count": null,
   "id": "aa30214d-4848-4b38-b634-f2f51ab5c44e",
   "metadata": {},
   "outputs": [],
   "source": []
  }
 ],
 "metadata": {
  "kernelspec": {
   "display_name": "Python 3 (ipykernel)",
   "language": "python",
   "name": "python3"
  },
  "language_info": {
   "codemirror_mode": {
    "name": "ipython",
    "version": 3
   },
   "file_extension": ".py",
   "mimetype": "text/x-python",
   "name": "python",
   "nbconvert_exporter": "python",
   "pygments_lexer": "ipython3",
   "version": "3.9.7"
  }
 },
 "nbformat": 4,
 "nbformat_minor": 5
}
